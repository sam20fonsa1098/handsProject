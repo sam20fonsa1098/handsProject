{
 "cells": [
  {
   "cell_type": "code",
   "execution_count": 1,
   "metadata": {},
   "outputs": [],
   "source": [
    "import cv2\n",
    "import numpy as np\n",
    "import matplotlib.pyplot as plt"
   ]
  },
  {
   "cell_type": "code",
   "execution_count": 2,
   "metadata": {},
   "outputs": [],
   "source": [
    "labels  = [\"FiveFingers\", \"FourFingers\", \"ThreeFingers\", \"TwoFingers\", \"OneFinger\", \"Closed\", \"Rock\", \"Nice\", \"NanoNano\", \"HangLoose\"]\n",
    "X_train  = []\n",
    "y_train  = []\n",
    "for j in range(len(labels)):\n",
    "    for i in range(1, 2001):\n",
    "        img = cv2.imread(f'DATA/train/{labels[j]}/{i}.jpg', 0)\n",
    "        img = img / 255\n",
    "        img = cv2.resize(img, (100, 100))\n",
    "        X_train.append(img)\n",
    "        y_train = np.append(y_train,j)"
   ]
  },
  {
   "cell_type": "code",
   "execution_count": 3,
   "metadata": {},
   "outputs": [],
   "source": [
    "X_train = np.array(X_train)\n",
    "y_train = np.array(y_train)"
   ]
  },
  {
   "cell_type": "code",
   "execution_count": 4,
   "metadata": {},
   "outputs": [],
   "source": [
    "X_train = X_train.reshape(len(X_train), 100, 100, 1)"
   ]
  },
  {
   "cell_type": "code",
   "execution_count": 5,
   "metadata": {},
   "outputs": [
    {
     "name": "stderr",
     "output_type": "stream",
     "text": [
      "Using TensorFlow backend.\n"
     ]
    }
   ],
   "source": [
    "from keras.models import Sequential\n",
    "from keras.layers import Activation, Dropout, Flatten, Dense, Conv2D, MaxPooling2D"
   ]
  },
  {
   "cell_type": "code",
   "execution_count": 6,
   "metadata": {},
   "outputs": [],
   "source": [
    "# Construction of model\n",
    "model = Sequential()\n",
    "model.add(Conv2D(64, (5, 5), activation='relu', input_shape=(100, 100, 1))) \n",
    "model.add(MaxPooling2D((2, 2)))\n",
    "model.add(Dropout(0.5))\n",
    "model.add(Conv2D(64, (3, 3), activation='relu')) \n",
    "model.add(MaxPooling2D((2, 2)))\n",
    "model.add(Dropout(0.5))\n",
    "model.add(Conv2D(64, (3, 3), activation='relu'))\n",
    "model.add(MaxPooling2D((2, 2)))\n",
    "model.add(Dropout(0.5))\n",
    "model.add(Flatten())\n",
    "model.add(Dense(128, activation='relu'))\n",
    "model.add(Dropout(0.5))\n",
    "model.add(Dense(10, activation='softmax'))# Configures the model for training\n",
    "model.compile(optimizer='adam', loss='sparse_categorical_crossentropy', metrics=['accuracy'])"
   ]
  },
  {
   "cell_type": "code",
   "execution_count": 7,
   "metadata": {},
   "outputs": [
    {
     "name": "stdout",
     "output_type": "stream",
     "text": [
      "Epoch 1/40\n",
      "20000/20000 [==============================] - 235s 12ms/step - loss: 0.3251 - accuracy: 0.8906\n",
      "Epoch 2/40\n",
      "20000/20000 [==============================] - 234s 12ms/step - loss: 0.0651 - accuracy: 0.9787\n",
      "Epoch 3/40\n",
      "20000/20000 [==============================] - 371s 19ms/step - loss: 0.0497 - accuracy: 0.9845\n",
      "Epoch 4/40\n",
      "20000/20000 [==============================] - 237s 12ms/step - loss: 0.0282 - accuracy: 0.9912\n",
      "Epoch 5/40\n",
      "20000/20000 [==============================] - 239s 12ms/step - loss: 0.0328 - accuracy: 0.9896\n",
      "Epoch 6/40\n",
      "20000/20000 [==============================] - 235s 12ms/step - loss: 0.0254 - accuracy: 0.9919\n",
      "Epoch 7/40\n",
      "20000/20000 [==============================] - 242s 12ms/step - loss: 0.0226 - accuracy: 0.9929\n",
      "Epoch 8/40\n",
      "20000/20000 [==============================] - 242s 12ms/step - loss: 0.0184 - accuracy: 0.9943\n",
      "Epoch 9/40\n",
      "20000/20000 [==============================] - 450s 22ms/step - loss: 0.0222 - accuracy: 0.9930\n",
      "Epoch 10/40\n",
      "20000/20000 [==============================] - 245s 12ms/step - loss: 0.0211 - accuracy: 0.9937\n",
      "Epoch 11/40\n",
      "20000/20000 [==============================] - 234s 12ms/step - loss: 0.0185 - accuracy: 0.9944\n",
      "Epoch 12/40\n",
      "20000/20000 [==============================] - 234s 12ms/step - loss: 0.0192 - accuracy: 0.9942\n",
      "Epoch 13/40\n",
      "20000/20000 [==============================] - 234s 12ms/step - loss: 0.0167 - accuracy: 0.9951\n",
      "Epoch 14/40\n",
      "20000/20000 [==============================] - 234s 12ms/step - loss: 0.0156 - accuracy: 0.9962\n",
      "Epoch 15/40\n",
      "20000/20000 [==============================] - 234s 12ms/step - loss: 0.0147 - accuracy: 0.9961\n",
      "Epoch 16/40\n",
      "20000/20000 [==============================] - 235s 12ms/step - loss: 0.0192 - accuracy: 0.9945\n",
      "Epoch 17/40\n",
      "20000/20000 [==============================] - 235s 12ms/step - loss: 0.0144 - accuracy: 0.9955\n",
      "Epoch 18/40\n",
      "20000/20000 [==============================] - 233s 12ms/step - loss: 0.0191 - accuracy: 0.9953\n",
      "Epoch 19/40\n",
      "20000/20000 [==============================] - 235s 12ms/step - loss: 0.0184 - accuracy: 0.9945\n",
      "Epoch 20/40\n",
      "20000/20000 [==============================] - 236s 12ms/step - loss: 0.0161 - accuracy: 0.9953\n",
      "Epoch 21/40\n",
      "20000/20000 [==============================] - 235s 12ms/step - loss: 0.0140 - accuracy: 0.9964\n",
      "Epoch 22/40\n",
      "20000/20000 [==============================] - 235s 12ms/step - loss: 0.0120 - accuracy: 0.9968\n",
      "Epoch 23/40\n",
      "20000/20000 [==============================] - 235s 12ms/step - loss: 0.0170 - accuracy: 0.9955\n",
      "Epoch 24/40\n",
      "20000/20000 [==============================] - 235s 12ms/step - loss: 0.0237 - accuracy: 0.9941\n",
      "Epoch 25/40\n",
      "20000/20000 [==============================] - 235s 12ms/step - loss: 0.0104 - accuracy: 0.9970\n",
      "Epoch 26/40\n",
      "20000/20000 [==============================] - 235s 12ms/step - loss: 0.0108 - accuracy: 0.9973\n",
      "Epoch 27/40\n",
      "20000/20000 [==============================] - 233s 12ms/step - loss: 0.0118 - accuracy: 0.9973\n",
      "Epoch 28/40\n",
      "20000/20000 [==============================] - 235s 12ms/step - loss: 0.0128 - accuracy: 0.9969\n",
      "Epoch 29/40\n",
      "20000/20000 [==============================] - 236s 12ms/step - loss: 0.0233 - accuracy: 0.9961\n",
      "Epoch 30/40\n",
      "20000/20000 [==============================] - 236s 12ms/step - loss: 0.0154 - accuracy: 0.9971\n",
      "Epoch 31/40\n",
      "20000/20000 [==============================] - 235s 12ms/step - loss: 0.0184 - accuracy: 0.9962\n",
      "Epoch 32/40\n",
      "20000/20000 [==============================] - 236s 12ms/step - loss: 0.0153 - accuracy: 0.9963\n",
      "Epoch 33/40\n",
      "20000/20000 [==============================] - 240s 12ms/step - loss: 0.0116 - accuracy: 0.9970\n",
      "Epoch 34/40\n",
      "20000/20000 [==============================] - 242s 12ms/step - loss: 0.0140 - accuracy: 0.9968\n",
      "Epoch 35/40\n",
      "20000/20000 [==============================] - 234s 12ms/step - loss: 0.0215 - accuracy: 0.9962\n",
      "Epoch 36/40\n",
      "20000/20000 [==============================] - 234s 12ms/step - loss: 0.0159 - accuracy: 0.9967\n",
      "Epoch 37/40\n",
      "20000/20000 [==============================] - 235s 12ms/step - loss: 0.0137 - accuracy: 0.9972\n",
      "Epoch 38/40\n",
      "20000/20000 [==============================] - 236s 12ms/step - loss: 0.0104 - accuracy: 0.9977\n",
      "Epoch 39/40\n",
      "20000/20000 [==============================] - 239s 12ms/step - loss: 0.0114 - accuracy: 0.9973\n",
      "Epoch 40/40\n",
      "20000/20000 [==============================] - 244s 12ms/step - loss: 0.0219 - accuracy: 0.9964\n"
     ]
    },
    {
     "data": {
      "text/plain": [
       "<keras.callbacks.callbacks.History at 0x7ff23047fe10>"
      ]
     },
     "execution_count": 7,
     "metadata": {},
     "output_type": "execute_result"
    }
   ],
   "source": [
    "from keras.utils import np_utils\n",
    "model.fit(X_train,y_train,epochs = 40, batch_size = 20)"
   ]
  },
  {
   "cell_type": "code",
   "execution_count": null,
   "metadata": {},
   "outputs": [],
   "source": [
    "labels  = [\"FiveFingers\", \"FourFingers\", \"ThreeFingers\", \"TwoFingers\", \"OneFinger\", \"Closed\", \"Rock\", \"Nice\", \"NanoNano\", \"HangLoose\"]\n",
    "X_test  = []\n",
    "y_test  = []\n",
    "for j in range(len(labels)):\n",
    "    for i in range(1, 251):\n",
    "        img = cv2.imread(f'DATA/test/{labels[j]}/{i}.jpg', 0)\n",
    "        img = img / 255\n",
    "        img = cv2.resize(img, (150, 150))\n",
    "        X_test.append(img)\n",
    "        y_test.append(j)"
   ]
  },
  {
   "cell_type": "code",
   "execution_count": null,
   "metadata": {},
   "outputs": [],
   "source": [
    "X_test = np.array(X_test)\n",
    "X_test = X_test.reshape(len(X_test), 150, 150, 1)\n",
    "y_test = np.array(y_test)"
   ]
  },
  {
   "cell_type": "code",
   "execution_count": null,
   "metadata": {},
   "outputs": [],
   "source": [
    "test_loss, test_acc = model.evaluate(X_test, y_test)"
   ]
  },
  {
   "cell_type": "code",
   "execution_count": null,
   "metadata": {},
   "outputs": [],
   "source": [
    "print('Test accuracy: {:2.2f}%'.format(test_acc*100))"
   ]
  },
  {
   "cell_type": "code",
   "execution_count": 9,
   "metadata": {},
   "outputs": [],
   "source": [
    "model.save('hand40epochs.h5')"
   ]
  },
  {
   "cell_type": "code",
   "execution_count": null,
   "metadata": {},
   "outputs": [],
   "source": [
    "from keras.models import load_model\n",
    "model = load_model(\"hand10epochs.h5\")"
   ]
  },
  {
   "cell_type": "code",
   "execution_count": null,
   "metadata": {},
   "outputs": [],
   "source": [
    "y_pred = model.predict_classes(X_test)"
   ]
  },
  {
   "cell_type": "code",
   "execution_count": null,
   "metadata": {},
   "outputs": [],
   "source": [
    "from sklearn.metrics import classification_report, confusion_matrix"
   ]
  },
  {
   "cell_type": "code",
   "execution_count": null,
   "metadata": {},
   "outputs": [],
   "source": [
    "print(classification_report(y_test,y_pred))"
   ]
  },
  {
   "cell_type": "code",
   "execution_count": null,
   "metadata": {},
   "outputs": [],
   "source": [
    "print(confusion_matrix(y_test,y_pred))"
   ]
  }
 ],
 "metadata": {
  "kernelspec": {
   "display_name": "Python 3",
   "language": "python",
   "name": "python3"
  },
  "language_info": {
   "codemirror_mode": {
    "name": "ipython",
    "version": 3
   },
   "file_extension": ".py",
   "mimetype": "text/x-python",
   "name": "python",
   "nbconvert_exporter": "python",
   "pygments_lexer": "ipython3",
   "version": "3.7.5"
  }
 },
 "nbformat": 4,
 "nbformat_minor": 2
}
